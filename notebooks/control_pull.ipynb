{
 "cells": [
  {
   "cell_type": "code",
   "execution_count": 1,
   "metadata": {},
   "outputs": [],
   "source": [
    "import sys\n",
    "\n",
    "%matplotlib inline\n",
    "sys.path.append('../')\n",
    "from GetControlGenes import FeatureFinder, PullQCGenes"
   ]
  },
  {
   "cell_type": "markdown",
   "metadata": {},
   "source": [
    "# Optional cell to pull and unzip gbff file\n",
    "### valid genbank file format file required to be fed into FeatureFinder object\n",
    "### which can be manually downloaded as well."
   ]
  },
  {
   "cell_type": "code",
   "execution_count": 2,
   "metadata": {},
   "outputs": [],
   "source": [
    "filename = 'Strep_ag_GCA_900155855.1_BM110_features.gbff'"
   ]
  },
  {
   "cell_type": "code",
   "execution_count": 3,
   "metadata": {},
   "outputs": [],
   "source": [
    "from sh import wget, gunzip\n",
    "\n",
    "# download genbank file and rename\n",
    "#wget('https://ftp.ncbi.nlm.nih.gov/genomes/all/GCA/900/155/855/GCA_900155855.1_BM110/GCA_900155855.1_BM110_genomic.gbff.gz', \n",
    "#     '-O', filename + '.gz')\n",
    "\n",
    "# unzip the genbank file\n",
    "#gunzip(filename + '.gz')"
   ]
  },
  {
   "cell_type": "code",
   "execution_count": 4,
   "metadata": {},
   "outputs": [
    {
     "data": {
      "text/html": [
       "<div>\n",
       "<style scoped>\n",
       "    .dataframe tbody tr th:only-of-type {\n",
       "        vertical-align: middle;\n",
       "    }\n",
       "\n",
       "    .dataframe tbody tr th {\n",
       "        vertical-align: top;\n",
       "    }\n",
       "\n",
       "    .dataframe thead th {\n",
       "        text-align: right;\n",
       "    }\n",
       "</style>\n",
       "<table border=\"1\" class=\"dataframe\">\n",
       "  <thead>\n",
       "    <tr style=\"text-align: right;\">\n",
       "      <th></th>\n",
       "      <th>Gene</th>\n",
       "      <th>Locus</th>\n",
       "      <th>Location</th>\n",
       "      <th>Start</th>\n",
       "      <th>End</th>\n",
       "      <th>Orientation</th>\n",
       "      <th>Sequence</th>\n",
       "      <th>Feature</th>\n",
       "      <th>length</th>\n",
       "      <th>aa_length</th>\n",
       "    </tr>\n",
       "  </thead>\n",
       "  <tbody>\n",
       "    <tr>\n",
       "      <th>1052</th>\n",
       "      <td>Carboxymuconolactone_decarboxylase</td>\n",
       "      <td>BQ8897_BM110_00561</td>\n",
       "      <td>[495471:495633](-)</td>\n",
       "      <td>495471</td>\n",
       "      <td>495633</td>\n",
       "      <td>reverse</td>\n",
       "      <td>ATGAAAGAAAAACAAACAGCCGGACGTCGTCAATTAGAAGAATTTG...</td>\n",
       "      <td>CDS</td>\n",
       "      <td>162</td>\n",
       "      <td>54.0</td>\n",
       "    </tr>\n",
       "    <tr>\n",
       "      <th>522</th>\n",
       "      <td>Late_competence_protein_ComGG_</td>\n",
       "      <td>BQ8897_BM110_00284</td>\n",
       "      <td>[236955:237123](+)</td>\n",
       "      <td>236955</td>\n",
       "      <td>237123</td>\n",
       "      <td>forward</td>\n",
       "      <td>ATGATTTTAAAGAAGAAACTTAAAGCTGGCATCCTTTTGCAAGCTA...</td>\n",
       "      <td>CDS</td>\n",
       "      <td>168</td>\n",
       "      <td>56.0</td>\n",
       "    </tr>\n",
       "    <tr>\n",
       "      <th>254</th>\n",
       "      <td>prophage_Sa05,_CopG_family_transcriptional_reg...</td>\n",
       "      <td>BQ8897_BM110_00148</td>\n",
       "      <td>[110809:110980](+)</td>\n",
       "      <td>110809</td>\n",
       "      <td>110980</td>\n",
       "      <td>forward</td>\n",
       "      <td>TTGAGTCCAACTTTAGGAAGACCCAAAAGCGAAAATCCCAAAAGTA...</td>\n",
       "      <td>CDS</td>\n",
       "      <td>171</td>\n",
       "      <td>57.0</td>\n",
       "    </tr>\n",
       "    <tr>\n",
       "      <th>2285</th>\n",
       "      <td>oxidoreductase,_short_chain_dehydrogenase_/red...</td>\n",
       "      <td>BQ8897_BM110_01179</td>\n",
       "      <td>[1129602:1129773](-)</td>\n",
       "      <td>1129602</td>\n",
       "      <td>1129773</td>\n",
       "      <td>reverse</td>\n",
       "      <td>ATGATATCACGTAAAGTTGCGCTTGTGACGGGGGCATCTGCTGGTT...</td>\n",
       "      <td>CDS</td>\n",
       "      <td>171</td>\n",
       "      <td>57.0</td>\n",
       "    </tr>\n",
       "    <tr>\n",
       "      <th>4358</th>\n",
       "      <td>LysM_domain_protein</td>\n",
       "      <td>BQ8897_BM110_02219</td>\n",
       "      <td>[2140889:2141060](-)</td>\n",
       "      <td>2140889</td>\n",
       "      <td>2141060</td>\n",
       "      <td>reverse</td>\n",
       "      <td>ATGTCAATAACCTCGGTTAAAAAATCAAAACCATTTAAATTAGGAG...</td>\n",
       "      <td>CDS</td>\n",
       "      <td>171</td>\n",
       "      <td>57.0</td>\n",
       "    </tr>\n",
       "  </tbody>\n",
       "</table>\n",
       "</div>"
      ],
      "text/plain": [
       "                                                   Gene               Locus  \\\n",
       "1052                 Carboxymuconolactone_decarboxylase  BQ8897_BM110_00561   \n",
       "522                      Late_competence_protein_ComGG_  BQ8897_BM110_00284   \n",
       "254   prophage_Sa05,_CopG_family_transcriptional_reg...  BQ8897_BM110_00148   \n",
       "2285  oxidoreductase,_short_chain_dehydrogenase_/red...  BQ8897_BM110_01179   \n",
       "4358                                LysM_domain_protein  BQ8897_BM110_02219   \n",
       "\n",
       "                  Location    Start      End Orientation  \\\n",
       "1052    [495471:495633](-)   495471   495633     reverse   \n",
       "522     [236955:237123](+)   236955   237123     forward   \n",
       "254     [110809:110980](+)   110809   110980     forward   \n",
       "2285  [1129602:1129773](-)  1129602  1129773     reverse   \n",
       "4358  [2140889:2141060](-)  2140889  2141060     reverse   \n",
       "\n",
       "                                               Sequence Feature  length  \\\n",
       "1052  ATGAAAGAAAAACAAACAGCCGGACGTCGTCAATTAGAAGAATTTG...     CDS     162   \n",
       "522   ATGATTTTAAAGAAGAAACTTAAAGCTGGCATCCTTTTGCAAGCTA...     CDS     168   \n",
       "254   TTGAGTCCAACTTTAGGAAGACCCAAAAGCGAAAATCCCAAAAGTA...     CDS     171   \n",
       "2285  ATGATATCACGTAAAGTTGCGCTTGTGACGGGGGCATCTGCTGGTT...     CDS     171   \n",
       "4358  ATGTCAATAACCTCGGTTAAAAAATCAAAACCATTTAAATTAGGAG...     CDS     171   \n",
       "\n",
       "      aa_length  \n",
       "1052       54.0  \n",
       "522        56.0  \n",
       "254        57.0  \n",
       "2285       57.0  \n",
       "4358       57.0  "
      ]
     },
     "execution_count": 4,
     "metadata": {},
     "output_type": "execute_result"
    }
   ],
   "source": [
    "# create feature finder\n",
    "ff = FeatureFinder()\n",
    "\n",
    "# Simple dataframe for features within gbff\n",
    "rna_df = ff.get_features(filename)\n",
    "rna_df = rna_df.drop_duplicates('Gene')\n",
    "\n",
    "rna_df = rna_df[rna_df.aa_length > 53]\n",
    "rna_df.head()\n"
   ]
  },
  {
   "cell_type": "code",
   "execution_count": null,
   "metadata": {},
   "outputs": [
    {
     "name": "stdout",
     "output_type": "stream",
     "text": [
      "Found 2078 entries associated with Carboxymuconolactone_decarboxylase AND Streptococcus[Organism] in protein database\n"
     ]
    },
    {
     "name": "stderr",
     "output_type": "stream",
     "text": [
      "  0%|          | 0/1 [00:12<?, ?it/s]\n"
     ]
    },
    {
     "name": "stdout",
     "output_type": "stream",
     "text": [
      "Exception IncompleteRead(74419 bytes read)\n",
      "Found 21193 entries associated with Late_competence_protein_ComGG_ AND Streptococcus[Organism] in protein database\n"
     ]
    },
    {
     "name": "stderr",
     "output_type": "stream",
     "text": [
      "  0%|          | 0/1 [00:00<?, ?it/s]"
     ]
    }
   ],
   "source": [
    "qrseq = PullQCGenes(email='alarsen525@gmail.com', ncbi_api_key='5ad23cdce078ec9c214e1cc886fd2f8a7409')\n",
    "tax_space = 'Streptococcaceae'\n",
    "tax_space = 'Streptococcus'\n",
    "\n",
    "# tax_space is the phylogenetic space to restrict the search to\n",
    "# top: int top n genes in rna_df, limit: int number of sequeneces to query\n",
    "df = qrseq.pull_and_qc_genes(rna_df, tax_space, limit=300)"
   ]
  },
  {
   "cell_type": "code",
   "execution_count": null,
   "metadata": {},
   "outputs": [],
   "source": [
    "rna_df.to_csv('control_seqs_strep.csv')"
   ]
  },
  {
   "cell_type": "code",
   "execution_count": null,
   "metadata": {},
   "outputs": [],
   "source": []
  },
  {
   "cell_type": "code",
   "execution_count": null,
   "metadata": {},
   "outputs": [],
   "source": []
  }
 ],
 "metadata": {
  "kernelspec": {
   "display_name": "Python 3",
   "language": "python",
   "name": "python3"
  },
  "language_info": {
   "codemirror_mode": {
    "name": "ipython",
    "version": 3
   },
   "file_extension": ".py",
   "mimetype": "text/x-python",
   "name": "python",
   "nbconvert_exporter": "python",
   "pygments_lexer": "ipython3",
   "version": "3.8.5"
  }
 },
 "nbformat": 4,
 "nbformat_minor": 4
}
