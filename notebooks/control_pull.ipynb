{
 "cells": [
  {
   "cell_type": "code",
   "execution_count": 1,
   "metadata": {},
   "outputs": [],
   "source": [
    "import sys\n",
    "sys.path.append('../')\n",
    "from GetControlGenes import EntrezWrapper, FeatureFinder, PullQCGenes"
   ]
  },
  {
   "cell_type": "code",
   "execution_count": null,
   "metadata": {},
   "outputs": [],
   "source": [
    "from sh import wget, gunzip\n",
    "filename = 'Strep_agGCA_900155855.1_BM110_genomic.gbff'\n",
    "wget('https://ftp.ncbi.nlm.nih.gov/genomes/all/GCA/900/155/855/GCA_900155855.1_BM110/GCA_900155855.1_BM110_genomic.gbff.gz', \n",
    "     '-O', filename + '.gz')\n",
    " gunzip(filename + '.gz')"
   ]
  },
  {
   "cell_type": "code",
   "execution_count": null,
   "metadata": {},
   "outputs": [],
   "source": [
    "rna_df = ff.get_features(filename).drop_duplicates('Gene')\n",
    "\n",
    "rna_df = ff.re"
   ]
  }
 ],
 "metadata": {
  "kernelspec": {
   "display_name": "Python 3",
   "language": "python",
   "name": "python3"
  },
  "language_info": {
   "codemirror_mode": {
    "name": "ipython",
    "version": 3
   },
   "file_extension": ".py",
   "mimetype": "text/x-python",
   "name": "python",
   "nbconvert_exporter": "python",
   "pygments_lexer": "ipython3",
   "version": "3.8.5"
  }
 },
 "nbformat": 4,
 "nbformat_minor": 4
}
