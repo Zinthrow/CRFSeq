{
 "cells": [
  {
   "cell_type": "code",
   "execution_count": 1,
   "metadata": {},
   "outputs": [],
   "source": [
    "from pystruct.models import LatentNodeCRF\n",
    "from pystruct.models import GraphCRF\n",
    "from pystruct.learners import FrankWolfeSSVM\n",
    "from pystruct.learners import OneSlackSSVM\n",
    "from pystruct.learners import NSlackSSVM\n",
    "from pystruct.learners import LatentSSVM\n",
    "from pystruct.learners import SubgradientLatentSSVM\n",
    "from pystruct.datasets import load_letters\n",
    "from pystruct.utils import make_grid_edges\n",
    "import numpy as np\n",
    "import itertools\n",
    "import pandas as pd\n",
    "from sklearn.model_selection import train_test_split"
   ]
  },
  {
   "cell_type": "markdown",
   "metadata": {},
   "source": [
    "## Convert seqs file into a character array"
   ]
  },
  {
   "cell_type": "code",
   "execution_count": 2,
   "metadata": {},
   "outputs": [],
   "source": [
    "msa = np.array([np.array(list(x), dtype=object) for x in open('adk_lid_uppercase.seqs', 'r').read().split('\\n') if x], dtype=object)\n",
    "default_len = len(msa[0])"
   ]
  },
  {
   "cell_type": "code",
   "execution_count": null,
   "metadata": {},
   "outputs": [],
   "source": []
  },
  {
   "cell_type": "markdown",
   "metadata": {},
   "source": [
    "## Load controls"
   ]
  },
  {
   "cell_type": "code",
   "execution_count": 3,
   "metadata": {},
   "outputs": [],
   "source": [
    "df = pd.read_csv('control_seqs.csv')"
   ]
  },
  {
   "cell_type": "markdown",
   "metadata": {},
   "source": [
    "## Convert controls into a character array"
   ]
  },
  {
   "cell_type": "code",
   "execution_count": 4,
   "metadata": {},
   "outputs": [],
   "source": [
    "controls = np.array([list(i[0:default_len]) for i in df.seq if len(i) >= default_len], dtype=object)"
   ]
  },
  {
   "cell_type": "markdown",
   "metadata": {},
   "source": [
    "## Combine msa and controls"
   ]
  },
  {
   "cell_type": "code",
   "execution_count": 5,
   "metadata": {},
   "outputs": [],
   "source": [
    "combination = np.concatenate((controls, msa))"
   ]
  },
  {
   "cell_type": "code",
   "execution_count": 6,
   "metadata": {},
   "outputs": [
    {
     "data": {
      "text/plain": [
       "22"
      ]
     },
     "execution_count": 6,
     "metadata": {},
     "output_type": "execute_result"
    }
   ],
   "source": [
    "#create library of all amino acids\n",
    "library = {'-': 0, 'C': 1, 'D': 2, 'S': 3,\n",
    " 'Q': 4, 'K': 5, 'I': 6, 'P': 7,\n",
    " 'T': 8, 'F': 9, 'N': 10, 'G': 11,\n",
    " 'H': 12, 'L': 13, 'R': 14, 'W': 15,\n",
    " 'A': 16, 'V': 17, 'E': 18, 'Y': 19,\n",
    " 'M': 20, 'X': 21}\n",
    "\n",
    "len(library)"
   ]
  },
  {
   "cell_type": "markdown",
   "metadata": {},
   "source": [
    "### Set all latent edges so that the final output is a 1D array"
   ]
  },
  {
   "cell_type": "code",
   "execution_count": 7,
   "metadata": {},
   "outputs": [
    {
     "data": {
      "text/plain": [
       "(1378, 2)"
      ]
     },
     "execution_count": 7,
     "metadata": {},
     "output_type": "execute_result"
    }
   ],
   "source": [
    "l = set(range(default_len))\n",
    "latent_edges = np.array([list(i) for i in itertools.combinations(l, 2)])\n",
    "latent_edges.shape"
   ]
  },
  {
   "cell_type": "code",
   "execution_count": null,
   "metadata": {},
   "outputs": [],
   "source": []
  },
  {
   "cell_type": "code",
   "execution_count": 8,
   "metadata": {
    "tags": []
   },
   "outputs": [
    {
     "data": {
      "text/plain": [
       "(672, 53, 22)"
      ]
     },
     "execution_count": 8,
     "metadata": {},
     "output_type": "execute_result"
    }
   ],
   "source": [
    "#one hot encode msa values\n",
    "X = []\n",
    "for i in combination:\n",
    "    node = []\n",
    "    for k in i:\n",
    "        z = np.zeros(len(library), dtype=int)\n",
    "        z[library[k]] = 1\n",
    "        node.append(z)\n",
    "    X.append(np.array(node))\n",
    "X=np.array(X)\n",
    "X.shape"
   ]
  },
  {
   "cell_type": "code",
   "execution_count": 9,
   "metadata": {},
   "outputs": [],
   "source": [
    "X_ = list(zip(X, [latent_edges for _ in X], [default_len-1 for _ in X]))\n",
    "\n",
    "# X, latent_edges per sample, Number of Hidden nodes\n",
    "# number of hidden nodes reduced the msa x length down to one dimension"
   ]
  },
  {
   "cell_type": "code",
   "execution_count": 10,
   "metadata": {},
   "outputs": [],
   "source": [
    "y_controls = np.zeros(shape = (len(controls), 1), dtype=int)\n",
    "y_msa = np.ones(shape = (len(msa), 1), dtype=int)\n",
    "y = np.concatenate((y_controls, y_msa))"
   ]
  },
  {
   "cell_type": "code",
   "execution_count": 11,
   "metadata": {},
   "outputs": [
    {
     "name": "stdout",
     "output_type": "stream",
     "text": [
      "(373, 1)\n",
      "(299, 1)\n"
     ]
    }
   ],
   "source": [
    "print(y_controls.shape)\n",
    "print(y_msa.shape)\n"
   ]
  },
  {
   "cell_type": "code",
   "execution_count": 12,
   "metadata": {},
   "outputs": [],
   "source": [
    "# split the data into training and testing data\n",
    "X_train, X_test, y_train, y_test = train_test_split(X_, y, test_size=.2)"
   ]
  },
  {
   "cell_type": "code",
   "execution_count": 13,
   "metadata": {},
   "outputs": [
    {
     "name": "stdout",
     "output_type": "stream",
     "text": [
      "537\n",
      "135\n"
     ]
    }
   ],
   "source": [
    "print(len(X_train)) # out of the total controls and targets, this was used to train the model\n",
    "print(len(X_test))\n"
   ]
  },
  {
   "cell_type": "code",
   "execution_count": 14,
   "metadata": {},
   "outputs": [
    {
     "data": {
      "text/plain": [
       "22"
      ]
     },
     "execution_count": 14,
     "metadata": {},
     "output_type": "execute_result"
    }
   ],
   "source": [
    "len(library) # library of amino acids == features"
   ]
  },
  {
   "cell_type": "code",
   "execution_count": 15,
   "metadata": {},
   "outputs": [],
   "source": [
    "model = LatentNodeCRF(n_labels=2, n_features=len(library), latent_node_features=True)"
   ]
  },
  {
   "cell_type": "code",
   "execution_count": 16,
   "metadata": {},
   "outputs": [],
   "source": [
    "ssvm = OneSlackSSVM(model, max_iter=200, C=100, n_jobs=-1, show_loss_every=10, inference_cache=50)\n",
    "\n",
    "latentssvm = LatentSSVM(base_ssvm=ssvm)"
   ]
  },
  {
   "cell_type": "code",
   "execution_count": 17,
   "metadata": {},
   "outputs": [
    {
     "name": "stderr",
     "output_type": "stream",
     "text": [
      "/usr/local/lib/python3.8/dist-packages/pystruct-0.3.2-py3.8-linux-x86_64.egg/pystruct/learners/one_slack_ssvm.py:307: VisibleDeprecationWarning: Creating an ndarray from ragged nested sequences (which is a list-or-tuple of lists-or-tuples-or ndarrays with different lengths or shapes) is deprecated. If you meant to do this, you must specify 'dtype=object' when creating the ndarray\n",
      "  return np.all(y_1 == y_2)\n"
     ]
    },
    {
     "name": "stdout",
     "output_type": "stream",
     "text": [
      "Runtime for training: 527.684656381607s\n"
     ]
    }
   ],
   "source": [
    "import time\n",
    "tic = time.time()\n",
    "latentssvm.fit(X_train, y_train)\n",
    "tic2 = time.time() \n",
    "runtime = tic2 - tic\n",
    "print(f'Runtime for training: {runtime}s')"
   ]
  },
  {
   "cell_type": "code",
   "execution_count": 18,
   "metadata": {},
   "outputs": [
    {
     "data": {
      "text/plain": [
       "1.0"
      ]
     },
     "execution_count": 18,
     "metadata": {},
     "output_type": "execute_result"
    }
   ],
   "source": [
    "latentssvm.score(X_test, y_test)"
   ]
  },
  {
   "cell_type": "code",
   "execution_count": 19,
   "metadata": {},
   "outputs": [],
   "source": [
    "pd.options.display.max_rows = 200"
   ]
  },
  {
   "cell_type": "code",
   "execution_count": 20,
   "metadata": {},
   "outputs": [
    {
     "data": {
      "text/html": [
       "<div>\n",
       "<style scoped>\n",
       "    .dataframe tbody tr th:only-of-type {\n",
       "        vertical-align: middle;\n",
       "    }\n",
       "\n",
       "    .dataframe tbody tr th {\n",
       "        vertical-align: top;\n",
       "    }\n",
       "\n",
       "    .dataframe thead th {\n",
       "        text-align: right;\n",
       "    }\n",
       "</style>\n",
       "<table border=\"1\" class=\"dataframe\">\n",
       "  <thead>\n",
       "    <tr style=\"text-align: right;\">\n",
       "      <th></th>\n",
       "      <th>0</th>\n",
       "      <th>1</th>\n",
       "    </tr>\n",
       "  </thead>\n",
       "  <tbody>\n",
       "    <tr>\n",
       "      <th>0</th>\n",
       "      <td>[0]</td>\n",
       "      <td>[0]</td>\n",
       "    </tr>\n",
       "    <tr>\n",
       "      <th>1</th>\n",
       "      <td>[1]</td>\n",
       "      <td>[1]</td>\n",
       "    </tr>\n",
       "    <tr>\n",
       "      <th>2</th>\n",
       "      <td>[0]</td>\n",
       "      <td>[0]</td>\n",
       "    </tr>\n",
       "    <tr>\n",
       "      <th>3</th>\n",
       "      <td>[1]</td>\n",
       "      <td>[1]</td>\n",
       "    </tr>\n",
       "    <tr>\n",
       "      <th>4</th>\n",
       "      <td>[0]</td>\n",
       "      <td>[0]</td>\n",
       "    </tr>\n",
       "  </tbody>\n",
       "</table>\n",
       "</div>"
      ],
      "text/plain": [
       "     0    1\n",
       "0  [0]  [0]\n",
       "1  [1]  [1]\n",
       "2  [0]  [0]\n",
       "3  [1]  [1]\n",
       "4  [0]  [0]"
      ]
     },
     "execution_count": 20,
     "metadata": {},
     "output_type": "execute_result"
    }
   ],
   "source": [
    "pd.DataFrame([latentssvm.predict(X_test), y_test]).T.head()\n"
   ]
  },
  {
   "cell_type": "markdown",
   "metadata": {},
   "source": [
    "# 99.26% accuracy!"
   ]
  },
  {
   "cell_type": "code",
   "execution_count": 21,
   "metadata": {},
   "outputs": [
    {
     "data": {
      "text/plain": [
       "array([ 1.50523204e-01,  0.00000000e+00,  0.00000000e+00,  1.65709608e-04,\n",
       "        0.00000000e+00,  0.00000000e+00,  0.00000000e+00,  0.00000000e+00,\n",
       "        0.00000000e+00,  0.00000000e+00,  0.00000000e+00,  0.00000000e+00,\n",
       "        0.00000000e+00,  0.00000000e+00, -3.00869073e-01,  0.00000000e+00,\n",
       "        0.00000000e+00,  0.00000000e+00,  0.00000000e+00,  0.00000000e+00,\n",
       "        1.50124925e-01,  0.00000000e+00, -1.50523204e-01,  0.00000000e+00,\n",
       "        0.00000000e+00, -1.65709608e-04,  0.00000000e+00,  0.00000000e+00,\n",
       "        0.00000000e+00,  0.00000000e+00,  0.00000000e+00,  0.00000000e+00,\n",
       "        0.00000000e+00,  0.00000000e+00,  0.00000000e+00,  0.00000000e+00,\n",
       "        3.00869073e-01,  0.00000000e+00,  0.00000000e+00,  0.00000000e+00,\n",
       "        0.00000000e+00,  0.00000000e+00, -1.50124925e-01,  0.00000000e+00,\n",
       "       -3.50475862e-03,  1.72347410e-01,  2.43282401e-01,  2.38457845e-03,\n",
       "       -1.33146341e-01, -3.45177162e-02,  1.12028240e-02,  2.80931725e-01,\n",
       "       -5.84009676e-02, -4.36781360e-03,  7.43018273e-03, -5.58450444e-02,\n",
       "        1.34363646e-01, -7.90012830e-02, -6.37786680e-02, -1.49111177e-01,\n",
       "       -1.28294674e-01,  3.45043965e-03, -7.67983196e-02,  3.41983431e-02,\n",
       "       -1.02856497e-01,  8.62898547e-11,  3.50475862e-03, -1.72347410e-01,\n",
       "       -2.43282401e-01, -2.38457845e-03,  1.33146341e-01,  3.45177162e-02,\n",
       "       -1.12028240e-02, -2.80931725e-01,  5.84009676e-02,  4.36781360e-03,\n",
       "       -7.43018273e-03,  5.58450444e-02, -1.34363646e-01,  7.90012830e-02,\n",
       "        6.37786680e-02,  1.49111177e-01,  1.28294674e-01, -3.45043965e-03,\n",
       "        7.67983196e-02, -3.41983431e-02,  1.02856497e-01, -8.62898547e-11,\n",
       "        0.00000000e+00,  0.00000000e+00,  0.00000000e+00, -1.25137963e-02,\n",
       "        1.25063518e-02,  4.77342408e-03,  9.52686957e-03, -9.51942514e-03,\n",
       "       -9.92651397e-03,  5.15308988e-03])"
      ]
     },
     "execution_count": 21,
     "metadata": {},
     "output_type": "execute_result"
    }
   ],
   "source": [
    "latentssvm.w\n",
    "#?????? Not sure what this is"
   ]
  },
  {
   "cell_type": "code",
   "execution_count": null,
   "metadata": {},
   "outputs": [],
   "source": []
  },
  {
   "cell_type": "code",
   "execution_count": null,
   "metadata": {},
   "outputs": [],
   "source": []
  },
  {
   "cell_type": "code",
   "execution_count": null,
   "metadata": {},
   "outputs": [],
   "source": []
  }
 ],
 "metadata": {
  "kernelspec": {
   "display_name": "Python 3",
   "language": "python",
   "name": "python3"
  },
  "language_info": {
   "codemirror_mode": {
    "name": "ipython",
    "version": 3
   },
   "file_extension": ".py",
   "mimetype": "text/x-python",
   "name": "python",
   "nbconvert_exporter": "python",
   "pygments_lexer": "ipython3",
   "version": "3.8.5"
  }
 },
 "nbformat": 4,
 "nbformat_minor": 5
}
